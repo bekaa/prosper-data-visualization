{
 "cells": [
  {
   "cell_type": "code",
   "execution_count": 1,
   "metadata": {
    "collapsed": false
   },
   "outputs": [],
   "source": [
    "import pandas as pd\n",
    "from datetime import datetime\n",
    "import numpy as np\n",
    "import operator"
   ]
  },
  {
   "cell_type": "code",
   "execution_count": 2,
   "metadata": {
    "collapsed": false
   },
   "outputs": [],
   "source": [
    "data = pd.read_csv('./data/prosperLoanData.csv') "
   ]
  },
  {
   "cell_type": "code",
   "execution_count": 3,
   "metadata": {
    "collapsed": false
   },
   "outputs": [],
   "source": [
    "# extract the year from the date field, then make a new column with the year value\n",
    "# also convert borrowerState to a string value\n",
    "data.year = np.random.randn(len(data))\n",
    "\n",
    "def getdate(row):\n",
    "    try:\n",
    "        row.ListingCreationDate = datetime.strptime(row['ListingCreationDate'],'%Y-%m-%d %H:%M:%S.%f000')\n",
    "    except ValueError:\n",
    "        row.ListingCreationDate = datetime.strptime(row['ListingCreationDate'],'%Y-%m-%d %H:%M:%S')\n",
    "    year = row.ListingCreationDate.strftime('%Y')    \n",
    "    row['year'] = int(year)\n",
    "    row['BorrowerState'] = str( row['BorrowerState'] )\n",
    "    return row\n",
    "\n",
    "data = data.apply(getdate, axis=1)"
   ]
  },
  {
   "cell_type": "markdown",
   "metadata": {},
   "source": [
    "----\n",
    "\n",
    "### MAKE A DICTIONARY FOR  BORROWER STATES."
   ]
  },
  {
   "cell_type": "code",
   "execution_count": 4,
   "metadata": {
    "collapsed": true
   },
   "outputs": [
    {
     "data": {
      "text/plain": [
       "[('CA', 14717),\n",
       " ('TX', 6842),\n",
       " ('NY', 6729),\n",
       " ('FL', 6720),\n",
       " ('IL', 5921),\n",
       " ('nan', 5515),\n",
       " ('GA', 5008),\n",
       " ('OH', 4197),\n",
       " ('MI', 3593),\n",
       " ('VA', 3278),\n",
       " ('NJ', 3097),\n",
       " ('NC', 3084),\n",
       " ('WA', 3048),\n",
       " ('PA', 2972),\n",
       " ('MD', 2821),\n",
       " ('MO', 2615),\n",
       " ('MN', 2318),\n",
       " ('MA', 2242),\n",
       " ('CO', 2210),\n",
       " ('IN', 2078),\n",
       " ('AZ', 1901),\n",
       " ('WI', 1842),\n",
       " ('OR', 1817),\n",
       " ('TN', 1737),\n",
       " ('AL', 1679),\n",
       " ('CT', 1627),\n",
       " ('SC', 1122),\n",
       " ('NV', 1090),\n",
       " ('KS', 1062),\n",
       " ('KY', 983),\n",
       " ('OK', 971),\n",
       " ('LA', 954),\n",
       " ('UT', 877),\n",
       " ('AR', 855),\n",
       " ('MS', 787),\n",
       " ('NE', 674),\n",
       " ('ID', 599),\n",
       " ('NH', 551),\n",
       " ('NM', 472),\n",
       " ('RI', 435),\n",
       " ('HI', 409),\n",
       " ('WV', 391),\n",
       " ('DC', 382),\n",
       " ('MT', 330),\n",
       " ('DE', 300),\n",
       " ('VT', 207),\n",
       " ('AK', 200),\n",
       " ('SD', 189),\n",
       " ('IA', 186),\n",
       " ('WY', 150),\n",
       " ('ME', 101),\n",
       " ('ND', 52)]"
      ]
     },
     "execution_count": 4,
     "metadata": {},
     "output_type": "execute_result"
    }
   ],
   "source": [
    "states = {}\n",
    "for state in data.BorrowerState :\n",
    "    if str(state) in states.keys() :\n",
    "        states[str(state)] +=1\n",
    "    else :\n",
    "        states[str(state)] = 1\n",
    "#print the states sorted.        \n",
    "sorted(states.items(), key=operator.itemgetter(1),reverse=True)        "
   ]
  },
  {
   "cell_type": "code",
   "execution_count": 5,
   "metadata": {
    "collapsed": false
   },
   "outputs": [],
   "source": [
    "# read states names, this includes statename All in capital, state name first litter is capital,\n",
    "# and 2 letters representing the state\n",
    "# As  [state1,state2,short]\n",
    "states_names = pd.read_csv('./data/us_states_names.csv')"
   ]
  },
  {
   "cell_type": "code",
   "execution_count": 9,
   "metadata": {
    "collapsed": false
   },
   "outputs": [],
   "source": [
    "# make a new dictionary, similar to states{} but instead of the 2 letters, it will have the whole state name.\n",
    "new_states = {}\n",
    "for state in states.keys() :\n",
    "    for state_short,state_long in zip(states_names.short,states_names.name2) :\n",
    "        if state == state_short :\n",
    "            new_states[state_long] = states[state]\n",
    "            break   \n",
    "#new_states['nan'] = states['nan']       # add the nan values.     \n",
    "new_states['Washington'] += states['DC']   # Washington has two short names \"WA\" and \"DC\".       \n",
    "\n",
    "#******************************************************************"
   ]
  },
  {
   "cell_type": "code",
   "execution_count": 10,
   "metadata": {
    "collapsed": false
   },
   "outputs": [],
   "source": [
    "# write the dictionary (new_states) into a csv file.\n",
    "# but make sure to write it sorted\n",
    "# Sort that dictionary by count value.\n",
    "sorted_list = sorted(new_states.items(), key=operator.itemgetter(1),reverse=True)        \n"
   ]
  },
  {
   "cell_type": "code",
   "execution_count": 12,
   "metadata": {
    "collapsed": true
   },
   "outputs": [],
   "source": [
    "\n",
    "with open('data/borrower_states.csv', 'wb') as f :\n",
    "    f.write('state,loans\\n')\n",
    "    for item in sorted_list:\n",
    "        f.write(item[0]+\",\"+str(item[1])+'\\n')"
   ]
  },
  {
   "cell_type": "markdown",
   "metadata": {},
   "source": [
    "---------------"
   ]
  }
 ],
 "metadata": {
  "anaconda-cloud": {},
  "kernelspec": {
   "display_name": "Python [default]",
   "language": "python",
   "name": "python2"
  },
  "language_info": {
   "codemirror_mode": {
    "name": "ipython",
    "version": 2
   },
   "file_extension": ".py",
   "mimetype": "text/x-python",
   "name": "python",
   "nbconvert_exporter": "python",
   "pygments_lexer": "ipython2",
   "version": "2.7.12"
  }
 },
 "nbformat": 4,
 "nbformat_minor": 1
}
