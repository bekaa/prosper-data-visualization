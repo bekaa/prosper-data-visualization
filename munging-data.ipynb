{
 "cells": [
  {
   "cell_type": "code",
   "execution_count": 3,
   "metadata": {
    "collapsed": false
   },
   "outputs": [],
   "source": [
    "import pandas as pd\n",
    "from datetime import datetime\n",
    "import numpy as np\n",
    "import operator\n"
   ]
  },
  {
   "cell_type": "code",
   "execution_count": 127,
   "metadata": {
    "collapsed": false
   },
   "outputs": [],
   "source": [
    "data = pd.read_csv('./data/prosperLoanData.csv') \n"
   ]
  },
  {
   "cell_type": "code",
   "execution_count": 128,
   "metadata": {
    "collapsed": false
   },
   "outputs": [],
   "source": [
    "# extract the year from the date field, then make a new column with the year value\n",
    "data.year = np.random.randn(len(data))\n",
    "\n",
    "def getdate(row):\n",
    "    try:\n",
    "        row.ListingCreationDate = datetime.strptime(row['ListingCreationDate'],'%Y-%m-%d %H:%M:%S.%f000')\n",
    "    except ValueError:\n",
    "        row.ListingCreationDate = datetime.strptime(row['ListingCreationDate'],'%Y-%m-%d %H:%M:%S')\n",
    "    year = row.ListingCreationDate.strftime('%Y')    \n",
    "    row['year'] = int(year)\n",
    "    row['BorrowerState'] = str( row['BorrowerState'] )\n",
    "    return row\n",
    "\n",
    "data = data.apply(getdate, axis=1)"
   ]
  },
  {
   "cell_type": "code",
   "execution_count": 129,
   "metadata": {
    "collapsed": false
   },
   "outputs": [
    {
     "name": "stderr",
     "output_type": "stream",
     "text": [
      "/home/bekora/Documents/programming/Nanodegree/anaconda2/lib/python2.7/site-packages/ipykernel/__main__.py:12: SettingWithCopyWarning: \n",
      "A value is trying to be set on a copy of a slice from a DataFrame\n",
      "\n",
      "See the caveats in the documentation: http://pandas.pydata.org/pandas-docs/stable/indexing.html#indexing-view-versus-copy\n"
     ]
    }
   ],
   "source": [
    "## keep only the columns i'm interested in.\n",
    "## list of columns to keep \n",
    "cols = [ 'MemberKey', 'Recommendations', 'year',\n",
    "        'BorrowerState', 'Occupation', 'EmploymentStatus',\n",
    "       'EmploymentStatusDuration', 'IsBorrowerHomeowner',\n",
    "       'IncomeRange', 'IncomeVerifiable']\n",
    "\n",
    "old_data = data\n",
    "data = data[cols]\n",
    "\n",
    "#sort data by MemberKey , then reset the index to count from 1 .. again after sorting.\n",
    "data.sort_values('MemberKey',axis=0, inplace=1)\n",
    "data.reset_index(drop=1,inplace=1)"
   ]
  },
  {
   "cell_type": "code",
   "execution_count": 130,
   "metadata": {
    "collapsed": false
   },
   "outputs": [],
   "source": [
    "#data.to_csv('./data/prosperLoanData_EDITED.csv',index=False)"
   ]
  },
  {
   "cell_type": "markdown",
   "metadata": {},
   "source": [
    "---------\n"
   ]
  },
  {
   "cell_type": "code",
   "execution_count": 52,
   "metadata": {
    "collapsed": false
   },
   "outputs": [],
   "source": [
    "newData = data.groupby('MemberKey')"
   ]
  },
  {
   "cell_type": "code",
   "execution_count": 18,
   "metadata": {
    "collapsed": false
   },
   "outputs": [
    {
     "data": {
      "text/plain": [
       "97529"
      ]
     },
     "execution_count": 18,
     "metadata": {},
     "output_type": "execute_result"
    }
   ],
   "source": [
    "#23,106 Duplicates,  74,423 are not. 97529 Borrower\n",
    "newData = data.duplicated('MemberKey',keep=False)\n",
    "len(newData[ newData == True ])\n",
    "data[newData]\n"
   ]
  },
  {
   "cell_type": "markdown",
   "metadata": {},
   "source": [
    "----\n",
    "\n",
    "### MAKE A DICTIONARY FOR  BORROWER STATES."
   ]
  },
  {
   "cell_type": "code",
   "execution_count": 6,
   "metadata": {
    "collapsed": false
   },
   "outputs": [],
   "source": [
    "data = pd.read_csv('./data/prosperLoanData_EDITED.csv') \n"
   ]
  },
  {
   "cell_type": "code",
   "execution_count": 7,
   "metadata": {
    "collapsed": false,
    "scrolled": true
   },
   "outputs": [
    {
     "data": {
      "text/plain": [
       "[('CA', 14717),\n",
       " ('TX', 6842),\n",
       " ('NY', 6729),\n",
       " ('FL', 6720),\n",
       " ('IL', 5921),\n",
       " ('nan', 5515),\n",
       " ('GA', 5008),\n",
       " ('OH', 4197),\n",
       " ('MI', 3593),\n",
       " ('VA', 3278),\n",
       " ('NJ', 3097),\n",
       " ('NC', 3084),\n",
       " ('WA', 3048),\n",
       " ('PA', 2972),\n",
       " ('MD', 2821),\n",
       " ('MO', 2615),\n",
       " ('MN', 2318),\n",
       " ('MA', 2242),\n",
       " ('CO', 2210),\n",
       " ('IN', 2078),\n",
       " ('AZ', 1901),\n",
       " ('WI', 1842),\n",
       " ('OR', 1817),\n",
       " ('TN', 1737),\n",
       " ('AL', 1679),\n",
       " ('CT', 1627),\n",
       " ('SC', 1122),\n",
       " ('NV', 1090),\n",
       " ('KS', 1062),\n",
       " ('KY', 983),\n",
       " ('OK', 971),\n",
       " ('LA', 954),\n",
       " ('UT', 877),\n",
       " ('AR', 855),\n",
       " ('MS', 787),\n",
       " ('NE', 674),\n",
       " ('ID', 599),\n",
       " ('NH', 551),\n",
       " ('NM', 472),\n",
       " ('RI', 435),\n",
       " ('HI', 409),\n",
       " ('WV', 391),\n",
       " ('DC', 382),\n",
       " ('MT', 330),\n",
       " ('DE', 300),\n",
       " ('VT', 207),\n",
       " ('AK', 200),\n",
       " ('SD', 189),\n",
       " ('IA', 186),\n",
       " ('WY', 150),\n",
       " ('ME', 101),\n",
       " ('ND', 52)]"
      ]
     },
     "execution_count": 7,
     "metadata": {},
     "output_type": "execute_result"
    }
   ],
   "source": [
    "states = {}\n",
    "for state in data.BorrowerState :\n",
    "    if str(state) in states.keys() :\n",
    "        states[str(state)] +=1\n",
    "    else :\n",
    "        states[str(state)] = 1\n",
    "#print the states sorted.        \n",
    "sorted(states.items(), key=operator.itemgetter(1),reverse=True)        "
   ]
  },
  {
   "cell_type": "code",
   "execution_count": 4,
   "metadata": {
    "collapsed": false
   },
   "outputs": [],
   "source": [
    "# read states names, this includes statename All in capital, state name first litter is capital,\n",
    "# and 2 letters representing the state\n",
    "# As  [state1,state2,short]\n",
    "states_names = pd.read_csv('./data/us_states_names.csv')"
   ]
  },
  {
   "cell_type": "code",
   "execution_count": 8,
   "metadata": {
    "collapsed": false
   },
   "outputs": [],
   "source": [
    "# make a new dictionary, similar to states{} but instead of the 2 letters, it will have the whole state name.\n",
    "new_states = {}\n",
    "for state in states.keys() :\n",
    "    for state_short,state_long in zip(states_names.short,states_names.name2) :\n",
    "        if state == state_short :\n",
    "            new_states[state_long] = states[state]\n",
    "            break   \n",
    "new_states['nan'] = states['nan']       # add the nan values.     \n",
    "new_states['Washington'] += states['DC']   # Washington has two short names \"WA\" and \"DC\".       \n",
    "\n",
    "#******************************************************************"
   ]
  },
  {
   "cell_type": "code",
   "execution_count": 16,
   "metadata": {
    "collapsed": false
   },
   "outputs": [],
   "source": [
    "# write the dictionary (new_states) into a csv file.\n",
    "# but make sure to write it sorted\n",
    "# Sort that dictionary by count value.\n",
    "sorted_list = sorted(new_states.items(), key=operator.itemgetter(1),reverse=True)        \n"
   ]
  },
  {
   "cell_type": "code",
   "execution_count": null,
   "metadata": {
    "collapsed": true
   },
   "outputs": [],
   "source": [
    "\n",
    "with open('data/borrower_states.csv', 'wb') as f :\n",
    "    f.write('state,count\\n')\n",
    "    for item in sorted_list:\n",
    "        f.write(item[0]+\",\"+str(item[1])+'\\n')"
   ]
  },
  {
   "cell_type": "markdown",
   "metadata": {},
   "source": [
    "---------------"
   ]
  },
  {
   "cell_type": "code",
   "execution_count": 24,
   "metadata": {
    "collapsed": false
   },
   "outputs": [
    {
     "name": "stdout",
     "output_type": "stream",
     "text": [
      "0.129167873474\n",
      "0.0600507297893\n",
      "0.0590589536323\n",
      "0.0589799626109\n",
      "0.0519673152707\n",
      "0.0484039425296\n",
      "0.0439541149934\n",
      "0.0368361462914\n",
      "0.0315349710805\n",
      "0.030104355916\n",
      "0.0287702853331\n",
      "0.0271816881259\n",
      "0.0270675899839\n",
      "0.0260845906071\n",
      "0.0247592968044\n",
      "0.0229512800934\n",
      "0.0203445763887\n",
      "0.0196775410973\n",
      "0.0193966841325\n",
      "0.0182381491526\n",
      "0.016684659066\n",
      "0.0161668290371\n",
      "0.0159474095333\n",
      "0.0152452671213\n",
      "0.0147362138726\n",
      "0.0142798213048\n",
      "0.00984754732879\n",
      "0.00956669036397\n",
      "0.00932094051976\n",
      "0.00862757488788\n",
      "0.00852225352607\n",
      "0.00837304826351\n",
      "0.00769723619193\n",
      "0.00750414702862\n",
      "0.00690732597839\n",
      "0.00591554982139\n",
      "0.00525729131011\n",
      "0.00483600586289\n",
      "0.004142640231\n",
      "0.00381789936544\n",
      "0.00358970308153\n",
      "0.00343172103882\n",
      "0.00289633744964\n",
      "0.00263303404513\n",
      "0.00181679349114\n",
      "0.00175535603009\n",
      "0.00165881144843\n",
      "0.00163248110798\n",
      "0.00131651702257\n",
      "0.000886454795194\n",
      "0.000456392567823\n"
     ]
    }
   ],
   "source": [
    "for item in sorted_list :\n",
    "    print item[1] / 113937.0\n"
   ]
  },
  {
   "cell_type": "markdown",
   "metadata": {},
   "source": [
    "---------------------"
   ]
  },
  {
   "cell_type": "code",
   "execution_count": 9,
   "metadata": {
    "collapsed": false
   },
   "outputs": [
    {
     "data": {
      "text/plain": [
       "4.840394252964358"
      ]
     },
     "execution_count": 9,
     "metadata": {},
     "output_type": "execute_result"
    }
   ],
   "source": [
    "Sum = 0.00\n",
    "for val in new_states.values() :\n",
    "    Sum+=val\n",
    "new_states['nan'] / Sum * 100"
   ]
  },
  {
   "cell_type": "code",
   "execution_count": 13,
   "metadata": {
    "collapsed": false
   },
   "outputs": [
    {
     "data": {
      "text/plain": [
       "0.04840394252964358"
      ]
     },
     "execution_count": 13,
     "metadata": {},
     "output_type": "execute_result"
    }
   ],
   "source": [
    " new_states['nan'] / Sum\n"
   ]
  },
  {
   "cell_type": "code",
   "execution_count": 14,
   "metadata": {
    "collapsed": false
   },
   "outputs": [
    {
     "data": {
      "text/plain": [
       "{'Alabama': 1679,\n",
       " 'Alaska': 200,\n",
       " 'Arizona': 1901,\n",
       " 'Arkansas': 855,\n",
       " 'California': 14717,\n",
       " 'Colorado': 2210,\n",
       " 'Connecticut': 1627,\n",
       " 'Delaware': 300,\n",
       " 'Florida': 6720,\n",
       " 'Georgia': 5008,\n",
       " 'Hawaii': 409,\n",
       " 'Idaho': 599,\n",
       " 'Illinois': 5921,\n",
       " 'Indiana': 2078,\n",
       " 'Iowa': 186,\n",
       " 'Kansas': 1062,\n",
       " 'Kentucky': 983,\n",
       " 'Louisiana': 954,\n",
       " 'Maine': 101,\n",
       " 'Maryland': 2821,\n",
       " 'Massachusetts': 2242,\n",
       " 'Michigan': 3593,\n",
       " 'Minnesota': 2318,\n",
       " 'Mississippi': 787,\n",
       " 'Missouri': 2615,\n",
       " 'Montana': 330,\n",
       " 'Nebraska': 674,\n",
       " 'Nevada': 1090,\n",
       " 'New Hampshire': 551,\n",
       " 'New Jersey': 3097,\n",
       " 'New Mexico': 472,\n",
       " 'New York': 6729,\n",
       " 'North Carolina': 3084,\n",
       " 'North Dakota': 52,\n",
       " 'Ohio': 4197,\n",
       " 'Oklahoma': 971,\n",
       " 'Oregon': 1817,\n",
       " 'Pennsylvania': 2972,\n",
       " 'Rhode Island': 435,\n",
       " 'South Carolina': 1122,\n",
       " 'South Dakota': 189,\n",
       " 'Tennessee': 1737,\n",
       " 'Texas': 6842,\n",
       " 'Utah': 877,\n",
       " 'Vermont': 207,\n",
       " 'Virginia': 3278,\n",
       " 'Washington': 3430,\n",
       " 'West Virginia': 391,\n",
       " 'Wisconsin': 1842,\n",
       " 'Wyoming': 150,\n",
       " 'nan': 5515}"
      ]
     },
     "execution_count": 14,
     "metadata": {},
     "output_type": "execute_result"
    }
   ],
   "source": [
    "new_states"
   ]
  },
  {
   "cell_type": "code",
   "execution_count": 11,
   "metadata": {
    "collapsed": false
   },
   "outputs": [
    {
     "data": {
      "text/plain": [
       "113937.0"
      ]
     },
     "execution_count": 11,
     "metadata": {},
     "output_type": "execute_result"
    }
   ],
   "source": [
    "Sum"
   ]
  },
  {
   "cell_type": "code",
   "execution_count": null,
   "metadata": {
    "collapsed": true
   },
   "outputs": [],
   "source": []
  }
 ],
 "metadata": {
  "anaconda-cloud": {},
  "kernelspec": {
   "display_name": "Python [default]",
   "language": "python",
   "name": "python2"
  },
  "language_info": {
   "codemirror_mode": {
    "name": "ipython",
    "version": 2
   },
   "file_extension": ".py",
   "mimetype": "text/x-python",
   "name": "python",
   "nbconvert_exporter": "python",
   "pygments_lexer": "ipython2",
   "version": "2.7.12"
  }
 },
 "nbformat": 4,
 "nbformat_minor": 1
}
